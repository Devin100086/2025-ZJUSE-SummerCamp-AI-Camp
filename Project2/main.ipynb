{
 "cells": [
  {
   "cell_type": "markdown",
   "metadata": {},
   "source": [
    "# 浙江大学软件学院人工智能夏令营实训开发项目2"
   ]
  },
  {
   "cell_type": "markdown",
   "metadata": {},
   "source": [
    "# 妙手回春：AI助力医疗健康"
   ]
  },
  {
   "cell_type": "markdown",
   "metadata": {},
   "source": [
    "## 1. 项目概述"
   ]
  },
  {
   "cell_type": "markdown",
   "metadata": {},
   "source": [
    "### 1.1 产品名称与功能：\n",
    "\n",
    "**名称**：妙手回春（Web项目） \n",
    "  \n",
    "**功能**：诊断助手，虚拟医生，康复指导助手，AI药品说明书等\n",
    "\n",
    "**简介**：基于文心大模型的医疗健康AI助手，提供智能诊断、康复指导和药品说明书查询等服务，为医生和患者提供便捷的在线医疗健康服务"
   ]
  },
  {
   "cell_type": "markdown",
   "metadata": {},
   "source": [
    "### 1.2 项目背景：\n",
    "根据《“十四五”规划和 2035 年远景目标纲要》，医疗领域数字化建设和智慧医疗建设成为“十四五”时期的重要任务。在医疗这片广阔的领域中，随着数据量的井喷式增长和需求的持续高涨，人工智能作为实现该任务的重要技术基础，正在积极地推动智慧医疗的发展。可见，现在的医疗正在从原先的人力诊断转变为智能诊断，人工智能在医疗领域的应用已经越来越广泛。而目前随着大模型的发展，也给医疗领域带来了新的机遇，使得医疗健康AI助手成为可能。在医疗领域，医疗数据本身就具有多模态的特性，大模型将进一步推进智慧医疗、医疗元宇宙和医疗研究的发展进程。比如电子病历理解、医疗问答、医学教育培训、医学影像生成、疾病辅助诊断、药物研发以及虚拟医院和医疗虚拟数字人交互等诸多应用。\n",
    "\n",
    "观察传统的医疗诊断方式，我们发现其中存在有着诸多的限制，如医生难以快速诊断，患者必须到医院才能进行诊断，缺少个性化的康复指导、诊断效果难以保证等问题。根据我们观察到的这些实际医疗场景的一些痛点，我们计划开发一款名为\"妙手回春”的医疗类产品，旨在借助大模型的强大能力优化教学过程，提升医疗诊断能力。将大模型等AI技术应用于医疗健康领域，有助于推动医疗健康行业数字化转型升级，对满足人民群众健康需求和实现经济社会绿色、智能、持续发展具有重要意义。"
   ]
  },
  {
   "cell_type": "markdown",
   "metadata": {},
   "source": [
    "### 1.3 项目动机：\n",
    "对于我们设计”妙手回春“，该项目的动机如下所示：\n",
    "- 我们的动机源于我们发现传统的医疗模型存在许多不便利的地方，以及我们对未来教育的憧憬。在传统模式下，医生可能无法第一时间根据用户描述的情况，做出快速的诊断；而患者受到空间的限制，必须到医院才能进行就诊。针对于这些传统医疗存在的问题，我们将会设计一款基于大模型技术的医疗产品，从而协助医生诊断和便于患者看病。\n",
    "\n",
    "- 我们希望引入人工智能技术，为医生和患者提供更大的便利，从而满足人民对自身健康的需求，并且提高医生诊断病情的准确性。\n",
    "\n",
    "-  而对于我个人而言，本次项目是一次很好运用大模型的机会，我将能够将之前学习的相关大模型知识（prompt工程，RAG技术等）运用其中，尝试将大模型和医疗结合起来，做一个专注于医疗垂直领域的大模型。并且我个人也希望该产品能够得到广泛的应用，进步一步地推动国家医疗水平的发展！"
   ]
  },
  {
   "cell_type": "markdown",
   "metadata": {},
   "source": [
    "### 1.4 重要性与价值\n",
    "对于我们设计的“妙手回春”，该产品的重要性与价值如下所示：\n",
    "- 本项目致力于利用现有的计算机视觉技术和大模型技术，为所有的人民带来便利。在目前医疗资源分布不均，特别是在偏远的地区，医疗资源相对匮乏，通过“妙手回春”项目，可以帮助患者在家中或远程获得专业的医疗咨询和诊断，解决了患者就诊难的问题。进而推动医疗服务的普惠化。\n",
    "\n",
    "- 传统医疗模式中，医生可能无法在第一时间根据用户描述的情况做出快速诊断。而“妙手回春”通过大模型技术，能够快速分析患者的症状描述，提供初步的诊断建议，大大提高了诊断效率。提高整体医疗质量。\n",
    "\n",
    "- 传统医疗模式往往缺乏个性化的康复指导。“妙手回春”能够根据患者的具体情况，提供个性化的康复计划和建议，提高患者的康复效果。因此该项目将会提高医疗的效率和质量，从而不断地满足人民对健康的需求。\n",
    "\n",
    "- 而对于个人而言，本次项目是一次医疗创新的大胆尝试，更是在当今人工智能发展的时代，对于如何将大模型技术和其他深度学习知识融入到医疗健康中的一次伟大的尝试。"
   ]
  },
  {
   "cell_type": "markdown",
   "metadata": {},
   "source": [
    "## 2. 问题陈述"
   ]
  },
  {
   "cell_type": "markdown",
   "metadata": {},
   "source": [
    "### 2.1 问题描述\n",
    "\n",
    "**1.“妙手回春”将尝试主要解决以下问题：**\n",
    "\n",
    "- 在传统医疗模式中，医生往往无法在第一时间根据患者描述的症状做出快速而准确的诊断，导致诊断过程延迟。“诊断助手”会协助医生进行分析患者的症状描述，从而提供更加快速和准确的建议；\n",
    "\n",
    "- 患者数据分析工作繁重：康复指导助手可以利用大模型的技术帮助分析患者的数据，更好地对症下药；\n",
    "\n",
    "- 个性化服务：康复指导助手会分析用户的个人情况，从而给予用户更好的个性化服务；\n",
    "\n",
    "- AI药品说明书：有些药品说明书太长了，难以快速理解，用户可以拍摄药盒，大模型就会根据拍摄到的照片，自动分析该药品的使用说明书、针对于其他特殊人群，比如老人，它还会利用AI合成声音，向老人播报相关的内容。\n",
    "\n",
    "**2.解决以上问题的思路与可能的难点：**\n",
    "\n",
    "- 系统设计的关键是利用大模型的强大阅读，推理，生成能力，使用规范且系统的prompt工程，结合强大的向量数据库...为用户提供专业的内容生成服务；\n",
    "\n",
    "- 我们着重考虑了个性化康复指导的构建；这里主要考虑到了相关的大模型无法得到内部的相关数据，我们这里将会采用“向量数据库”的操作，进而实现大模型实现更加个性化的支持。\n",
    "\n",
    "- 本项目的可能的难点有以下两点。第一来自内容生成：对于常规对话场景或是向量数据库体数据量小的情况下，大模型可能会出现幻觉问题；对于引导类内容生成的场景下若系统提示词不够完备，可能会跳过引导内容直接生成结论内容。第二来自于如何实现多模态的输入和相关的检索，比如用户拍摄药盒给模型，模型需要准确地识别药盒的图片，并且做出相应的回复，这里就需要考虑让模型能够理解药盒相关信息，从而做出准确的答复。"
   ]
  },
  {
   "cell_type": "markdown",
   "metadata": {},
   "source": [
    "### 2.2 项目目标\n",
    "​\n",
    "**本次项目的目标与预期成果：**\n",
    "​\n",
    "- **功能实现**：实现功能架构中80%以上的的功能点，实现的功能点达到90%以上的完整性\n",
    "\n",
    "- **可靠性**：通过prompt工程和利用向量数据库对模型幻觉难点进行调优，内容准确率达到95%以上，并且可以进一步地提高多模态检索的能力\n",
    "\n",
    "- **用户体验**：通过合理的界面与操作逻辑的构建，实现简洁大方且交互逻辑合理的系统界面，并且要考虑特殊人群（老人）的需求，需要考虑添加相关AI语音的功能"
   ]
  },
  {
   "cell_type": "markdown",
   "metadata": {},
   "source": [
    "## 3. 方法与技术"
   ]
  },
  {
   "cell_type": "markdown",
   "metadata": {},
   "source": [
    "### 3.1 基于文心大模型的开发\n",
    "\n",
    "在构建“妙手回春”大模型的过程中，我们选择了一种高效且创新的方法，即利用文心一言大模型作为基础平台。文心一言大模型本身具备强大的语言理解和生成能力，这为我们在医疗健康领域的应用提供了坚实的基础。由于我们考虑到自身算力的限制，并没有采用模型微调技术，而是采取了一种更为灵活和成本效益更高的方法。我们通过调用文心一言大模型的API，实现了与现有系统的无缝对接。这种方法允许我们利用大模型的先进能力，而无需承担高昂的计算资源成本。此外，我们还引入了先进的prompt技术，这是一种通过设计特定的提示来引导模型生成特定类型输出的方法。在医疗健康领域，我们可以通过精心设计的prompt，引导文心一言大模型生成更准确、更专业的医疗信息和建议。为了进一步提升模型在医疗领域的性能，我们结合了向量数据库的知识检索技术。通过将医疗文献、病例报告、医学指南等资料转化为向量形式，并存储在向量数据库中，我们可以快速检索出与用户查询最相关的医疗知识。这种检索增强技术不仅提高了信息检索的准确性和效率，还使得文心一言大模型能够提供更加丰富和深入的医疗咨询。下面我将会详细去介绍我的几个技术要点：\n",
    "\n",
    "- **RAG技术**：RAG技术通过将检索系统与生成模型结合在一起，旨在改进文本生成任务的性能，特别是在需要访问大规模外部知识库时。RAG技术的主要思想是首先检索与输入相关的文档或信息，然后使用生成模型基于这些检索结果生成答案或文本。在设计本次”妙手回春“的项目时候，我主要是构建属于自己的医疗知识库，将文心一言访问我自己构建的知识库中。我从网上下载相关的医疗文献文章和相关的疾病与治理方案的内容，利用langchain库对pdf进行分析和处理，并且采用ZhipuAI的embedding方式，对处理好的文字形成相关的embedding，存放入对应的向量数据库（Chroma）中。选择Chroma数据库的原因主要是它十分轻量，并且操作十分方便。并且通过相关的调研，发现医疗中已经有公开的**医疗知识图谱**的知识库，所以同样可以将知识图谱嵌入到大模型当中。通过RAG的技术，可以使我们的“妙手回春”的模型，更能回答出准确和严谨的医疗知识。具体的示意图如下所示：\n",
    "<div align=\"center\">\n",
    "    <img src=\"./others/RAG.png\" alt=\"图片title\" title=\"图片title\" style=\"width: 70%; height: auto;\">\n",
    "</div>\n",
    "\n",
    "- **Prompt设计**：Prompt设计是指在与大型语言模型交互时，精心设计和优化输入提示的过程，以便获得更准确、相关和高质量的输出。在本次的“妙手回春”的项目中，我精心设计了**System Prompt**，使得文心一言大模型能够更好地适应于医疗的垂直领域。我通过大模型开发中的“验证与迭代”的过程，不断修改我的System Prompt，使得模型可以得出更加准确的回答。\n",
    "\n",
    "- **Agent实现**：Agent是一种能够自主决策、采取行动以达到某种目标的实体。确切来说，Agent是基于人工智能（尤其是大模型）技术，能够感知和理解环境，并采取行动以完成目标的智能实体。由于我们本次设计了AI药品说明书的功能。但是我们所调用的百度文心一言并没有识别图片的功能，所以我们需要额外的API进行识别图片。所以我们针对于这个功能，封装了两个tool，分别是**OCR的函数**还有是调用**药物的API函数**，并且嵌入到大模型当中。大模型模型通过用户输入的内容，判断是否需要调用这两个函数。因此通过构建智能体，我们很好地解决了直接调用文心一言大模型的弊端。具体的示意图如下所示：\n",
    "<div align=\"center\">\n",
    "    <img src=\"./others/Agent.png\" alt=\"图片title\" title=\"图片title\" style=\"width: 70%; height: auto;\">\n",
    "</div>\n",
    "\n",
    "通过结合上述的三种方式，我们设计的”妙手回春“能够很好地专注于医疗领域的内容。\n",
    "具体的实现代码如下所示：\n",
    "\n",
    "```\n",
    "可运行示例代码见附录部分的最后一部分\n",
    "```\n"
   ]
  },
  {
   "cell_type": "markdown",
   "metadata": {},
   "source": [
    "### 3.2 功能介绍"
   ]
  },
  {
   "cell_type": "markdown",
   "metadata": {},
   "source": [
    "#### 3.2.1 患者端"
   ]
  },
  {
   "cell_type": "markdown",
   "metadata": {},
   "source": [
    "“妙手回春”在患者端具有以下的这些功能：\n",
    "- 虚拟医生：对于虚拟医生这一部分，它有如下这几种功能：\n",
    "    - 患者可以在对话模块中向输入框中输入相应的内容（自身的相关情况，出现了什么症状），从而进行相关的提问，”妙手回春“就会针对用户的提问内容做出相应的回应，作为初步诊断\n",
    "    \n",
    "    - 患者可以将这次对话进行保存下来，发布到平台中。平台会显示该用户的对话内容，以便其他拥有相同症状的用户可以得到解决方案\n",
    "\n",
    "- AI药品说明书：对于AI药品说明书，它有以下几个功能：\n",
    "    - 患者通过文字输入或者语音输入药品内容，大模型会进行相关反馈，最终向患者说明该药品的相关内容（药品说明书）\n",
    "    \n",
    "    - 患者可以拍摄相关的药盒给大模型，进行询问大模型这个药的使用说明书。大模型最终会以简洁的回答来回复患者\n",
    "    \n",
    "    - 药品推荐功能，大模型会根据患者所回答的内容，向患者进行推荐其他相关的药品（低风险，更高效的药物）\n",
    "\n",
    "- 康复指导助手：\n",
    "    - 提供虚拟康复教练功能，模拟真实教练的互动和指导，提升患者的训练体验。\n",
    "\n",
    "    - 存在康复社区聊天区：患者可以分享康复经验、互相鼓励，并从其他用户或专家那里获取支持和建议。\n",
    "\n",
    "    - 根据患者的具体病情、身体状况和康复需求，制定个性化的康复计划。\n",
    "\n",
    "    - 康复进度跟踪：患者可以在平台上记录自己的康复进度数据，大模型会根据这些数据，进行相关的分析，从而对患者的康复计划做出改变\n",
    "具体的患者端结构图如下所示：\n",
    "<div align=\"center\">\n",
    "    <img src=\"./others/用户端.png\" alt=\"图片title\" title=\"图片title\" style=\"width: 70%; height: auto;\">\n",
    "</div>"
   ]
  },
  {
   "cell_type": "markdown",
   "metadata": {},
   "source": [
    "#### 3.2.2 医生端"
   ]
  },
  {
   "cell_type": "markdown",
   "metadata": {},
   "source": [
    "“妙手回春”在医生端具有以下的这些功能：\n",
    "\n",
    "- 对话：与用户端相似，医生可能会遗忘相关内容，医生同样可以询问大模型，让大模型给出相关的答案。\n",
    "\n",
    "- 诊断助手：诊断助手主要有以下的这些功能：\n",
    "    - 病情分析：医生可以输入自己病人的相关症状，模型将会给出对应的初步结果，来辅助医生的判断。\n",
    "\n",
    "    - 解决方案实现：医生得出相关判断之后，可以将结果询问诊断助手，诊断助手会根据判断结果，提出相应的解决方案。\n",
    "\n",
    "    - 医生将患者群体的数据（表格形式或者是excel文件）输入到系统之中，诊断助手自动分析，让医生了解常见疾病的发生趋势和治疗效果。\n",
    "\n",
    "- 智能文书助手：智能文书助手有以下这些功能：\n",
    "    - 医生不用打字和写字，在医生口述诊断过程中，系统自动分析医生的口述内容，生成相应的诊断报告，医生只需审核和签字。\n",
    "    \n",
    "    - 医生开处方时候，医生只需要输入相关的药名，智能文书助手就会相应的生成相关的处方信息\n",
    "\n",
    "- 医疗影像分析：医生可以将患者的X光、CT光、MRI等医疗影像输入到系统之中，从而能够辅助医生识别病变和异常。\n",
    "<div align=\"center\">\n",
    "    <img src=\"./others/医生端.png\" alt=\"图片title\" title=\"图片title\"  style=\"width: 70%; height: auto;\">\n",
    "</div>"
   ]
  },
  {
   "cell_type": "markdown",
   "metadata": {},
   "source": [
    "### 3.4 核心功能使用流程图"
   ]
  },
  {
   "cell_type": "markdown",
   "metadata": {},
   "source": [
    "这里针对于核心功能，我分为两大部分，分别是患者端的虚拟医生和AI药品说明书，和医生端的诊断助手和智能文书助手。下面进行具体的介绍："
   ]
  },
  {
   "cell_type": "markdown",
   "metadata": {},
   "source": [
    "#### 3.4.1 患者端的核心功能使用流程图\n",
    "\n",
    "具体的患者端核心功能如下所示：\n",
    "<div align=\"center\">\n",
    "    <img src=\"./others/核心功能流程图-患者端.png\" alt=\"图片title\" title=\"图片title\"  style=\"width: 100%; height: auto;\">\n",
    "</div>"
   ]
  },
  {
   "cell_type": "markdown",
   "metadata": {},
   "source": [
    "#### 3.4.2 医生端的核心功能使用流程图\n",
    "\n",
    "具体的医生端核心功能如下所示：\n",
    "<div align=\"center\">\n",
    "    <img src=\"./others/核心功能流程图-医生端.png\" alt=\"图片title\" title=\"图片title\"  style=\"width: 100%; height: auto;\">\n",
    "</div>"
   ]
  },
  {
   "cell_type": "markdown",
   "metadata": {},
   "source": [
    "### 3.5 整体功能流程图"
   ]
  },
  {
   "cell_type": "markdown",
   "metadata": {},
   "source": [
    "#### 3.5.1 登录功能流程图"
   ]
  },
  {
   "cell_type": "markdown",
   "metadata": {},
   "source": [
    "下面展示相关的登录功能的流程图：\n",
    "<div align=\"center\">\n",
    "    <img src=\"./others/功能流程图-登录界面.png\" alt=\"图片title\" title=\"图片title\">\n",
    "</div>"
   ]
  },
  {
   "cell_type": "markdown",
   "metadata": {},
   "source": [
    "#### 3.5.2 患者端功能流程图"
   ]
  },
  {
   "cell_type": "markdown",
   "metadata": {},
   "source": [
    "患者端的功能主要有三个，分别是虚拟医生、康复指导助手、AI药品说明书，下面我将会进行具体的分析和介绍\n",
    "\n",
    "**虚拟医生**：患者在对话模块中输入自身情况和症状，虚拟医生基于输入内容进行初步诊断并回应。并且患者在对话模块中输入自身情况和症状，虚拟医生基于输入内容进行初步诊断并回应。\n",
    "<div align=\"center\">\n",
    "    <img src=\"./others/功能流程图-患者端——虚拟医生.png\" alt=\"图片title\" title=\"图片title\" style=\"width: 70%; height: auto;\">\n",
    "</div>"
   ]
  },
  {
   "cell_type": "markdown",
   "metadata": {},
   "source": [
    "**康复指导助手**：具有以下四个功能，虚拟康复教练：提供模拟真实教练的互动和指导，提升患者训练体验。康复社区聊天区：患者分享康复经验、互相鼓励，并获取支持和建议。个性化康复计划：根据患者病情、身体状况和需求制定个性化康复计划。康复进度跟踪：患者记录康复进度数据，大模型分析数据并调整康复计划。\n",
    "<div align=\"center\">\n",
    "    <img src=\"./others/功能流程图-患者端——康复指导助手.png\" alt=\"图片title\" title=\"图片title\" style=\"width: 70%; height: auto;\">\n",
    "</div>"
   ]
  },
  {
   "cell_type": "markdown",
   "metadata": {},
   "source": [
    "**AI药品说明**：文字或语音输入药品信息：患者通过文字或语音输入药品内容，系统反馈药品说明书信息。药盒拍照查询说明书：患者拍摄药盒图片，大模型解析并提供简洁的药品使用说明。药品推荐：大模型根据患者描述推荐低风险、高效的替代药品。\n",
    "<div align=\"center\">\n",
    "    <img src=\"./others/功能流程图-患者端——AI药品说明书.png\" alt=\"图片title\" title=\"图片title\" style=\"width: 70%; height: auto;\">\n",
    "</div>"
   ]
  },
  {
   "cell_type": "markdown",
   "metadata": {},
   "source": [
    "#### 3.5.3 医生端功能流程图\n",
    "\n",
    "医生端的功能主要有四个，分别是对话、诊断助手、智能文书助手，医疗影像分析下面我将会进行具体的分析和介绍：\n",
    "\n",
    "**对话**：医生提问与解答：医生可以向大模型提问以获取相关答案，避免遗忘内容。\n",
    "<div align=\"center\">\n",
    "    <img src=\"./others/功能流程图-医生端——对话.png\" alt=\"图片title\" title=\"图片title\" style=\"width: 70%; height: auto;\">\n",
    "</div>\n"
   ]
  },
  {
   "cell_type": "markdown",
   "metadata": {},
   "source": [
    "**诊断助手**：病情分析：医生输入病人症状，模型给出初步结果，辅助判断。解决方案实现：医生根据判断结果询问诊断助手，助手提供相应解决方案。患者群体数据分析：医生输入患者群体数据，诊断助手自动分析常见疾病趋势和治疗效果。\n",
    "<div align=\"center\">\n",
    "    <img src=\"./others/功能流程图-医生端——诊断助手.png\" alt=\"图片title\" title=\"图片title\" style=\"width: 70%; height: auto;\">\n",
    "</div>"
   ]
  },
  {
   "cell_type": "markdown",
   "metadata": {},
   "source": [
    "**智能文书助手**：自动诊断报告生成：系统分析医生口述诊断内容，生成诊断报告，医生审核签字。智能处方生成：医生输入药名，系统生成相应处方信息。\n",
    "<div align=\"center\">\n",
    "    <img src=\"./others/功能流程图-医生端——智能文书助手.png\" alt=\"图片title\" title=\"图片title\" style=\"width: 70%; height: auto;\">\n",
    "</div>"
   ]
  },
  {
   "cell_type": "markdown",
   "metadata": {},
   "source": [
    "**医疗影像分析**：辅助病变和异常识别：医生输入X光、CT、MRI影像，系统辅助识别病变和异常。\n",
    "<div align=\"center\">\n",
    "    <img src=\"./others/功能流程图-医生端——医疗影像分析.png\" alt=\"图片title\" title=\"图片title\" style=\"width: 70%; height: auto;\">\n",
    "</div>"
   ]
  },
  {
   "cell_type": "markdown",
   "metadata": {},
   "source": [
    "### 3.6 技术架构图"
   ]
  },
  {
   "cell_type": "markdown",
   "metadata": {},
   "source": [
    "我们所设计的”妙手回春“的技术架构图如下所示：\n",
    "\n",
    "<div align=\"center\">\n",
    "    <img src=\"./others/技术架构图.png\" alt=\"图片title\" title=\"图片title\">\n",
    "</div>"
   ]
  },
  {
   "cell_type": "markdown",
   "metadata": {},
   "source": [
    "### 3.7 整体架构图\n",
    "\n",
    "整体架构图主要是来说明整个核心流程，显示整体工作的架构。这里主要来介绍核心功能中的问答功能和AI药品说明书这两个功能的整体架构图：\n",
    "\n",
    "- 问答功能：在问答系统中，主要有两种方式进行得到最终的答案，一种是基于RAG的方式，第二种是直接询问LLM模型。对于第一种方式，首先需要将收集到的文献进行相关的切割，之后通过embedding的操作，将相关的句向量存入到向量数据库中。因此每次用户提问的时候，大模型同样也会去检索向量数据库的内容，最终得到检索增强的回答。而对于不用RAG操作的流程中，就不存在使用向量数据库的这个流程。但是针对于这两个操作，都需要用到Prompt的操作，进一步将大模型聚焦于医学领域的内容。具体的整体架构图如下图所示：\n",
    "\n",
    "<div align=\"center\">\n",
    "    <img src=\"./others/整体架构图-问答功能.png\" alt=\"图片title\" title=\"图片title\" style=\"width: 70%; height: auto;\">\n",
    "</div>\n"
   ]
  },
  {
   "cell_type": "markdown",
   "metadata": {},
   "source": [
    "- AI药品说明书：在AI药品说明书中，主要有两种方式，一种是进行多模态输入，另外一种是进行单模态的文字输入。对于多模态输入的时候，跟问答功能详细，都会检索到对应的向量数据库，之后会根据用户所询问的内容，调用相应的tools，首先会用OCR技术和LLM共同识别文字的内容，之后将得到的结果再经过外部一个Medicine的API，来和LLM模型一同协助生成对应的药品说明书。最终得到的答案会存入到云端数据库中。而对于第二种只有单模态的输入，会有两种方式进行生成最后的答案，其中可以直接利用LLM进行生成答案，另外一种是通过调用相应的外部API（小模型）来生成对应的结果。具体的功能架构图如下所示：\n",
    "<div align=\"center\">\n",
    "    <img src=\"./others/整体架构图-AI药品说明书.png\" alt=\"图片title\" title=\"图片title\" style=\"width: 70%; height: auto;\">\n",
    "</div>"
   ]
  },
  {
   "cell_type": "markdown",
   "metadata": {},
   "source": [
    "## 4. 应用场景"
   ]
  },
  {
   "cell_type": "markdown",
   "metadata": {},
   "source": [
    "### 4.1 针对患者场景"
   ]
  },
  {
   "cell_type": "markdown",
   "metadata": {},
   "source": [
    "有一天，小吴坐在电脑前，感到了一丝不寻常的不适。他是一名程序员，长时间坐在电脑前是常态，但最近，他的肩颈和腰部开始频繁地发出抗议。小吴决定采取行动，他打开了手机上的“妙手回春”应用。他首先在虚拟医生模块中描述了自己的症状：“最近总是感到肩颈僵硬，腰部也有些疼痛。”应用迅速回应，给出了初步的诊断和建议：“可能是由于长时间久坐和不良坐姿引起的肌肉紧张。建议您进行一些温和的拉伸运动，并注意改善坐姿。”小吴按照建议，开始尝试一些简单的拉伸动作。同时，他决定查询一些药品来缓解不适。在AI药品说明书模块中，他输入了“布洛芬”，应用立刻提供了详细的药品信息，包括剂量和使用方法。此外，AI还推荐了其他几种低风险、高效的药物供他选择。随着时间的推移，小吴意识到康复是一个长期的过程，需要持续的努力和正确的方法。他开始使用康复指导助手来制定个性化的康复计划。每天，他都会按照计划进行康复训练，同时在康复社区聊天区分享自己的经验，与其他用户互相鼓励。小吴在平台上记录了自己的康复进度，包括每天的运动时间、身体感受和任何不适。应用的康复进度跟踪功能分析了他的数据，并根据分析结果适时调整了他的康复计划。例如，当应用发现他的腰部支撑需要加强时，便建议他增加核心力量训练。几个月后，小吴的身体状况有了显著的改善。他不仅解决了肩颈和腰部的疼痛问题，还养成了更加健康的生活方式。他感激“妙手回春”应用在这个过程中给予的帮助和指导，它不仅是一款健康管理工具，更是他康复旅程中的忠实伙伴。"
   ]
  },
  {
   "cell_type": "markdown",
   "metadata": {},
   "source": [
    "### 4.2 针对医生场景"
   ]
  },
  {
   "cell_type": "markdown",
   "metadata": {},
   "source": [
    "小龙是一位忙碌的医生，每天面对众多病人，他深知自己的记忆力和时间都是有限的。为了更高效地工作，他开始使用一款名为“妙手回春”的医疗辅助应用。一天，小龙在诊断一位老年患者时遇到了难题。老人的症状与多种疾病相似，小龙决定求助于“妙手回春”的对话功能。他向应用描述了病人的症状，应用迅速提供了几种可能的疾病和相关的医学信息，帮助小龙缩小了诊断范围。随后，小龙利用“妙手回春”的诊断助手功能，输入了病人的症状和体征。诊断助手分析后给出了初步的病情分析，并提出了几种可能的解决方案。小龙根据这些建议，结合自己的临床经验，为患者制定了治疗计划。为了进一步了解患者群体的健康状况，小龙将一批患者的数据上传到“妙手回春”系统中。诊断助手自动分析了这些数据，向小龙展示了常见疾病的发生趋势和不同治疗方案的效果，帮助他优化了治疗策略。在忙碌的工作中，小龙还发现“妙手回春”的智能文书助手极大地提高了他的工作效率。在口述诊断过程中，智能文书助手能够自动分析并生成诊断报告，小龙只需进行审核和签字。当他开处方时，只需输入药名，系统就会自动生成详细的处方信息，包括剂量、用法和注意事项。随着时间的推移，小龙越来越依赖“妙手回春”应用。它不仅提高了他的工作效率，还帮助他为患者提供了更准确的诊断和治疗方案。小龙相信，有了这款应用的帮助，他能够更好地履行医生的职责，为更多的患者带来健康和希望。"
   ]
  },
  {
   "cell_type": "markdown",
   "metadata": {},
   "source": [
    "## 5. 创新之处"
   ]
  },
  {
   "cell_type": "markdown",
   "metadata": {},
   "source": [
    "### 5.1 项目独特性\n",
    "\n",
    "- 本项目可以实现AI语音的输入，图片的输入和文字输入，从而实现了多模态的输入，从而提高诊断的效率，并且极大程度地服务了特殊人群。\n",
    "\n",
    "- 本项目可以利用大模型在系统内分析患者的信息，并且根据患者的相关信息，最终做出相关的答复。\n",
    "\n",
    "- 为了去提高医疗回复的可靠性，本项目采用知识图谱和大模型相互结合的方法，通过知识图谱作为大模型外挂知识库进行实现。通过这种方式，大模型可以结合知识图谱的信息，进行语义理解和推测，提供更加准确和全面的答案。\n",
    "\n",
    "- 本项目的个性化练习模块将“适应性学习”方法用prompt工程在系统内进行复刻，增强内容生成的个性化"
   ]
  },
  {
   "cell_type": "markdown",
   "metadata": {},
   "source": [
    "### 5.2 项目未来前景\n",
    "\n",
    "本次设计的\"妙手回春\"医疗大模型项目，它不仅代表了医疗行业与前沿技术的深度融合，也预示着未来医疗服务模式的革新。“妙手回春”能够在一定程度上便利了患者和医生，提高了人们的健康水平和生活水平，解决了传统医疗模式的问题，以下是对该项目未来前景的展望：\n",
    "\n",
    "1. **各大医院：** 随着医疗大模型的深入应用，各大医院将能够实现更高效的诊疗流程。模型的智能诊断能力将辅助医生快速准确地识别疾病，提升诊疗质量。同时，通过个性化治疗建议，医院能够为患者提供更加精准的治疗方案，提高治疗效果和患者满意度。\n",
    "\n",
    "2. **各大药店：** 药店作为医疗健康服务的重要组成部分，将通过本项目获得更专业的药品推荐和用药指导服务。利用大模型分析患者病历和药物相互作用，药店能够提供更加科学合理的药品搭配和用药建议，帮助患者实现更好的治疗效果。\n",
    "\n",
    "3. **各个高校的医务室：** 高校医务室将借助本项目提升校园医疗服务水平。通过智能化的健康管理和疾病预防建议，医务室能够更好地应对学生群体的常见健康问题，同时，通过教育和培训，提高学生的健康意识和自我保健能力。\n",
    "\n",
    "4. **医疗健康咨询平台：** 本项目将为医疗健康咨询平台带来革命性的变革。利用大模型的自然语言处理能力，平台能够提供更加智能和人性化的咨询服务，解答用户的健康疑问，提供专业的医疗建议，从而吸引更多用户，提升平台的市场竞争力。\n",
    "\n",
    "5. **医疗机构内部培训：** 医疗机构内部培训将因本项目的实施而变得更加高效和系统。通过智能化的学习工具和个性化的学习路径，医护人员能够不断提升自身的专业技能和医疗服务水平。此外，大模型还能够为培训内容提供实时更新，确保医护人员掌握最新的医疗知识和技术。\n",
    "\n",
    "总体来看，本项目的实施将为医疗行业带来深远的影响。随着技术的不断成熟和应用的不断拓展，项目有望在未来实现更广泛的市场覆盖，为医疗机构、药店、高校医务室等提供更加智能化、个性化的服务，推动医疗行业的数字化转型和创新发展。同时，随着人们对健康需求的不断增长，本项目也将为提升公众健康水平和生活质量做出重要贡献。"
   ]
  },
  {
   "cell_type": "markdown",
   "metadata": {},
   "source": [
    "## 6. 未来改进方向\n",
    "\n",
    "针对于我们所提出的模型，我认为未来改进的方向有以下几点：\n",
    "1. 我们本次所设计的产品都是基于已有的文心一言大模型API，但是现有的大量论文已经表明，通过**大模型微调**，再结合相关的技术，比如RAG，prompt技术，能够进一步提高模型回答的准确度，并且可以减少“幻觉”现象的产生。\n",
    "\n",
    "2. 可以采用多智能体的方式，来进一步地提高整个系统的鲁棒性，从而提高整个系统的功能丰富性。\n",
    "\n",
    "3. 可以尝试更多形式的输入，比如可以传入一个病人的视频给大模型，让大模型可以理解视频的含义。"
   ]
  },
  {
   "cell_type": "markdown",
   "metadata": {},
   "source": [
    "## 7. 附录"
   ]
  },
  {
   "cell_type": "markdown",
   "metadata": {},
   "source": [
    "### 7.1 竞品分析"
   ]
  },
  {
   "cell_type": "markdown",
   "metadata": {},
   "source": [
    "#### 7.1.1 产品列举"
   ]
  },
  {
   "cell_type": "markdown",
   "metadata": {},
   "source": [
    "| 企业名称 | 发布时间 | 大模型名称 | 业务场景 |\n",
    "| --------| -------| -------- |-------- |\n",
    "| 微脉   | 2023.2 |依托百度文心一言|全病程管理|\n",
    "| 深睿医疗   | 2023.4 |DeepWise MetAI|医疗影像数智化|\n",
    "| 科大讯飞   | 2023.5 |星火认知|诊后康复管理|\n",
    "| 智云健康   | 2023.5 |ClouDGPT|辅助诊断、药物/器械研发|\n",
    "| 上海联通   | 2023.5 |ClouDGPT|辅助诊断、药物/器械研发|\n",
    "| 云知声  | 2023.5 |ClouDGPT|辅助诊断、药物/器械研发|\n",
    "| 医联  | 2023.5 |MedGPT|全流程智能化诊疗|\n",
    "| 润达医疗  | 2023.6 |基于华为云|校验报告智能解读、互联网检验以及居民全周期健康管理|\n",
    "| 深圳市大数据研究院  | 2023.6 |华佗GPT|问诊对话|\n",
    "| 东软  | 2023.6 |添翼|辅助医生问诊、患者健康服务、医院管理|\n",
    "| 叮当健康  | 2023.6 |HealthGPT|用户健康助手|\n",
    "| 上海人工智能实验室  | 2023.7 |OpenMEDLab浦医|医疗多模态基础模型群|\n",
    "| 京东健康  | 2023.7 |京医千问|提供导诊、健康咨询、辅助决策|\n",
    "| 百度灵医智惠  | 2023.7 |灵医Bot|文档理解、病历理解、医疗问答|\n",
    "| 卫宁健康  | 2023.10 |WiNEX Copilot|医疗知识问答、互联网问诊、医疗报告小结|"
   ]
  },
  {
   "cell_type": "markdown",
   "metadata": {},
   "source": [
    "#### 7.1.2 过去的解决方案普遍存在\n",
    "\n",
    "- 大多是医疗知识范围范围覆盖不全;模型很难更新最新的医疗知识内容\n",
    "\n",
    "- 大部分的医疗系统都没有考虑到特殊人群，比如老人，导致人机交互功能较差\n",
    "\n",
    "- 大部分的医疗大模型，都忽略掉了用户的个性化需求，导致所有的回答都是千篇一律\n",
    "\n",
    "- 大多数的医疗大模型，都只是站在用户的角度，很少去站在医生的角度去思考问题。在真实就诊的时候，大模型应当辅助医生进行看病\n",
    "\n",
    "- 大多数的大模型，无法很好地分析患者所提供的数据\n",
    "\n",
    "- 现在医疗方面的内容都是多模态的数据，但是现在大多数的模型都是只能处理文本数据，而针对于那些医学图像数据，目前大多数的系统都无法具备处理它的能力。"
   ]
  },
  {
   "cell_type": "markdown",
   "metadata": {},
   "source": [
    "### 7.2 需求分析"
   ]
  },
  {
   "cell_type": "markdown",
   "metadata": {},
   "source": [
    "#### 7.2.1 面向患者群体"
   ]
  },
  {
   "cell_type": "markdown",
   "metadata": {},
   "source": [
    "**1.1 患者在需要看病时候的痛点与需求分析：**\n",
    "\n",
    "在当今快速发展的社会中，医疗需求不断增加，然而，患者在就医过程中仍然面临着许多痛点和挑战。这些问题不仅影响了患者的就医体验，也在一定程度上制约了医疗服务的效率和质量。特别是当患者需要看病时，他们会面临许多问题和不便。这些问题不仅包括长时间的等待和医疗资源分配不均，还涉及到信息不对称、复诊和随访的困难、以及心理压力等方面。这些挑战往往使患者的就医体验变得复杂且繁琐，不仅增加了时间和经济成本，还可能延误治疗，影响病情恢复。在这种情况下，了解并分析患者的痛点和需求显得尤为重要，这为我们提供了改进医疗服务和提升患者满意度的关键切入点。根据我们的分析，具体的痛点和需求如下：\n",
    "\n",
    "- 患者需要医院看病经常需要排长队，尤其是在大型医院，患者从挂号到就诊可能需要等待数小时，极大地浪费了时间和精力。另外，一些慢性病患者需要定期复诊和随访，但每次去医院都需要重新排队挂号，十分不便。这些患者都需要快速、高效的诊疗服务，减少等待时间，他们都希望随时随地都可以就诊。\n",
    "\n",
    "- 优质医疗资源集中在大城市，而偏远地区和基层医疗机构的医疗水平相对较低，这使得许多患者不得不花费大量时间和费用前往大城市就诊。由于这种医疗资源分布不均，偏远地区的患者往往无法得到及时和优质的医疗咨询和治疗，导致他们的健康问题得不到有效解决。这种情况不仅增加了患者的经济负担，也使得他们的病情可能因延误治疗而加重，进而影响整体健康水平。\n",
    "\n",
    "- 许多患者在看病时可能会遇到医生讲述不清楚的问题，导致他们无法全面理解自己的病情和治疗方案。这种沟通上的障碍不仅会让患者感到困惑和焦虑，还可能影响他们对治疗的依从性和信任度。缺乏清晰、准确的医疗信息，使得患者难以做出明智的健康决策。\n",
    "\n",
    "**1.2 大模型的能力与解决需求点的功能：**\n",
    "\n",
    "基于对患者痛点和需求的深入分析，利用大模型技术可以有效地解决这些问题，提升医疗服务的质量和效率。以下是具体的大模型能力及其对应的解决方案：\n",
    "\n",
    "- **减少就诊等待时间**：大模型能够通过自然语言处理技术，理解患者的描述，进行症状分析，并提供初步的诊断建议。患者可以通过在线平台描述自己的症状，大模型会给出可能的疾病诊断和初步的治疗建议。这不仅能帮助患者快速了解自己的健康状况，还能减少不必要的就诊次数。\n",
    "\n",
    "- **提高回答的准确度**：大模型结合知识图谱技术，能够提供全面、专业的疾病、治疗方案和药物信息。患者可以随时查询各种医疗信息，包括疾病介绍、治疗方法、药物使用等，帮助他们全面了解自己的病情和治疗方案。从而提高患者对治疗方案的理解和配合度。\n",
    "\n",
    "- **解决医疗不公平的现状**：通过大模型技术，能够有效解决医疗资源分布不均的问题，使各个地区的人们都可以享受优质的医疗服务，而无需远距离奔波就诊。所有的人们都可以登录相关的平台，让”虚拟医生“对其进行诊断。"
   ]
  },
  {
   "cell_type": "markdown",
   "metadata": {},
   "source": [
    "#### 7.2.2 面向医生群体"
   ]
  },
  {
   "cell_type": "markdown",
   "metadata": {},
   "source": [
    "**2.1 医生在诊疗过程中的痛点与需求分析：**\n",
    "在当今医疗环境中，医生在诊疗过程中同样面临许多挑战和痛点。尽管医疗技术和服务水平不断提升，但医生在日常工作中仍需应对各种复杂的情况，这些问题不仅影响了医生的工作效率和职业满意度，还可能间接影响患者的治疗效果。通过分析医生在诊疗过程中遇到的痛点和需求，可以为改进医疗服务、提升工作效率和工作满意度提供有力支持。以下是医生在诊疗过程中常见的痛点和需求分析：\n",
    "\n",
    "- 信息过载和时间压力：医生每天需要面对大量的患者，处理繁多的病历和医疗记录，同时还需迅速做出诊断和治疗决策。这种高强度的工作节奏和信息过载容易导致疲劳和压力，影响工作效率和决策准确性。\n",
    "\n",
    "- 在诊断过程中，医生可能自身的诊断会出现相关疏忽，不能给用户完整的诊断说明，从而导致存在健康问题。\n",
    "\n",
    "- 快速获取专业知识：面对快速变化的医学知识和技术，医生需要不断更新自己的专业知识以保持诊疗水平。然而，有限的时间和高强度的工作让医生难以全面、及时地学习最新的医学研究成果和临床指南。\n",
    "\n",
    "- 医患沟通不畅：医生在与患者沟通时，常常面临患者对医学知识的理解有限、信息不对称等问题。医生需要花费大量时间和精力向患者解释病情和治疗方案，这不仅增加了医生的工作负担，还可能影响患者的理解和配合。\n",
    "\n",
    "**2.2 大模型的能力与解决需求点的功能：**\n",
    "基于对医生痛点和需求的深入分析，利用大模型技术可以有效地解决这些问题，提升医生的工作效率和诊疗质量。以下是具体的大模型能力及其对应的解决方案：\n",
    "\n",
    "- **智能病历管理**：大模型能够自动整理和分析病历信息，帮助医生快速了解患者的病史和当前健康状况。通过自然语言处理技术，大模型可以将医生的口述或书面记录转化为结构化数据，简化病历管理过程，提高信息处理效率。\n",
    "\n",
    "- **辅助诊断和治疗建议**：大模型可以基于海量医学数据和文献，提供智能的诊断支持和治疗建议。医生输入患者的症状和检查结果，大模型会分析并给出可能的诊断和推荐的治疗方案，帮助医生快速做出决策，提高诊疗的准确性和效率。\n",
    "\n",
    "- **提供最新，权威的知识**：通过向量数据库的强大能力，大模型能够持续更新医学知识，提供最新的临床指南和研究成果。医生可以通过大模型平台快速查找和获取相关的医学信息，确保自己的诊疗决策基于最新的科学证据，减少知识更新的时间压力。\n",
    "\n",
    "- **增强医患沟通**：大模型可以生成简明易懂的病情解释和治疗方案介绍，帮助医生向患者清晰、准确地传达医疗信息。同时，大模型还能回答患者的常见问题，减轻医生的沟通负担，提高患者的理解和配合度。"
   ]
  },
  {
   "cell_type": "markdown",
   "metadata": {},
   "source": [
    "“妙手回春”系统为患者提供了与大模型交互的平台，让患者能够更加便捷地获得相应的诊断支持，并且获得相应的个性化康复支持；“妙手回春”同样可以减轻医生的压力，帮助医生给病人进行初步的诊断。通过设计这款“妙手回春”的系统，可以进一步提高患者的健康水平，减轻社会医疗的压力。该产品并且符合当今的需求，具有很好的市场前景。"
   ]
  },
  {
   "cell_type": "markdown",
   "metadata": {},
   "source": [
    "### 7.3 相关演示视频"
   ]
  },
  {
   "cell_type": "code",
   "execution_count": 3,
   "metadata": {},
   "outputs": [
    {
     "data": {
      "text/html": [
       "\n",
       "<div align=\"center\">\n",
       "<video controls width=\"780\" height=\"500\" src=\"./others/video.mp4\">animation</video>\n",
       "</div>"
      ],
      "text/plain": [
       "<IPython.core.display.HTML object>"
      ]
     },
     "metadata": {},
     "output_type": "display_data"
    }
   ],
   "source": [
    "from IPython.display import display, HTML\n",
    "\n",
    "html_str = '''\n",
    "<div align=\"center\">\n",
    "<video controls width=\\\"780\\\" height=\\\"500\\\" src=\\\"{}\\\">animation</video>\n",
    "</div>'''.format(\"./others/video.mp4\")\n",
    "display(HTML(html_str))"
   ]
  },
  {
   "cell_type": "markdown",
   "metadata": {},
   "source": [
    "### 7.4 示例代码"
   ]
  },
  {
   "cell_type": "markdown",
   "metadata": {},
   "source": [
    "- 导入相关的包"
   ]
  },
  {
   "cell_type": "code",
   "execution_count": 1,
   "metadata": {},
   "outputs": [],
   "source": [
    "from langchain.llms.base import LLM\n",
    "from langchain.chains import RetrievalQA\n",
    "from zhipuai import ZhipuAI\n",
    "from typing import Dict, Any, Mapping\n",
    "from pydantic import Field\n",
    "from langchain.llms.base import LLM\n",
    "from typing import Any, List, Mapping, Optional, Dict, Union, Tuple\n",
    "import json\n",
    "from langchain.prompts import PromptTemplate\n",
    "from langchain.document_loaders import PyMuPDFLoader\n",
    "from langchain.memory import ConversationBufferMemory\n",
    "import matplotlib.pyplot as plt\n",
    "from langchain.chains import ConversationalRetrievalChain\n",
    "import matplotlib.image as mpimg\n",
    "from langchain.text_splitter import RecursiveCharacterTextSplitter\n",
    "import cv2\n",
    "import requests\n",
    "import os\n",
    "from langchain import PromptTemplate, LLMChain\n",
    "from langchain.chains import LLMRequestsChain\n",
    "from langchain_core.tools import tool\n",
    "from langchain_core.utils.function_calling import convert_to_openai_tool \n",
    "import numpy as np\n",
    "from sklearn.metrics.pairwise import cosine_similarity\n",
    "from langchain.callbacks.manager import CallbackManagerForLLMRun\n",
    "from __future__ import annotations\n",
    "import logging\n",
    "from typing import Any, Dict, List, Optional\n",
    "from langchain.embeddings.base import Embeddings\n",
    "from langchain.chains import RetrievalQA\n",
    "from langchain.vectorstores import Chroma\n",
    "from langchain.pydantic_v1 import BaseModel, root_validator\n",
    "from langchain.utils import get_from_dict_or_env\n",
    "from paddleocr import PaddleOCR\n",
    "logger = logging.getLogger(__name__)"
   ]
  },
  {
   "cell_type": "markdown",
   "metadata": {},
   "source": [
    "- 自定义相关的LLM类：定义了一个名为 Self_LLM 的自定义 LLM 类，该类继承自 LLM。类包含访问 URL、模型名称、请求超时、温度系数、API 密钥和额外参数。提供了一个方法返回默认调用参数，包括温度和请求超时，并将这些参数与模型参数合并。另一个方法返回识别参数，将模型名称与默认参数合并。这个类用于灵活配置和访问自定义 LLM 模型。"
   ]
  },
  {
   "cell_type": "code",
   "execution_count": 2,
   "metadata": {},
   "outputs": [],
   "source": [
    "class Self_LLM(LLM):\n",
    "    # 自定义 LLM\n",
    "    url: str = \"https://aip.baidubce.com/oauth/2.0/token?grant_type=client_credentials&client_id={api_key}&client_secret={secret_key}\"\n",
    "    model_name: str = \"gpt-3.5-turbo\"\n",
    "    # 访问时延上限\n",
    "    request_timeout: float = None\n",
    "    # 温度系数\n",
    "    temperature: float = 0.7\n",
    "    api_key: str = None\n",
    "    model_kwargs: Dict[str, Any] = Field(default_factory=dict)\n",
    "\n",
    "    # 定义一个返回默认参数的方法\n",
    "    @property\n",
    "    def _default_params(self) -> Dict[str, Any]:\n",
    "        \"\"\"获取调用默认参数。\"\"\"\n",
    "        normal_params = {\n",
    "            \"temperature\": self.temperature,\n",
    "            \"request_timeout\": self.request_timeout,\n",
    "        }\n",
    "        # print(type(self.model_kwargs))\n",
    "        return {**normal_params}\n",
    "\n",
    "    @property\n",
    "    def _identifying_params(self) -> Mapping[str, Any]:\n",
    "        \"\"\"Get the identifying parameters.\"\"\"\n",
    "        return {**{\"model_name\": self.model_name}, **self._default_params}"
   ]
  },
  {
   "cell_type": "markdown",
   "metadata": {},
   "source": [
    "- 自定义相关的文心大模型：通过相关的apikey和secretkey得到对应的access token，并且通过access_token向文心一言的API地址发起请求，最终得到相应的服务。"
   ]
  },
  {
   "cell_type": "code",
   "execution_count": 3,
   "metadata": {},
   "outputs": [],
   "source": [
    "def get_access_token(api_key: str, secret_key: str):\n",
    "\n",
    "    url = f\"https://aip.baidubce.com/oauth/2.0/token?grant_type=client_credentials&client_id={api_key}&client_secret={secret_key}\"\n",
    "    payload = json.dumps(\"\")\n",
    "    headers = {\n",
    "        'Content-Type': 'application/json',\n",
    "        'Accept': 'application/json'\n",
    "    }\n",
    "    response = requests.request(\"POST\", url, headers=headers, data=payload)\n",
    "    return response.json().get(\"access_token\")\n",
    "\n",
    "\n",
    "class Wenxin_LLM(Self_LLM):\n",
    "    # 文心大模型的自定义 LLM\n",
    "    url: str = \"https://aip.baidubce.com/rpc/2.0/ai_custom/v1/wenxinworkshop/chat/eb-instant?access_token={}\"\n",
    "    # Secret_Key\n",
    "    secret_key: str = None\n",
    "    # access_token\n",
    "    access_token: str = None\n",
    "\n",
    "    def init_access_token(self):\n",
    "        if self.api_key != None and self.secret_key != None:\n",
    "            try:\n",
    "                self.access_token = get_access_token(self.api_key, self.secret_key)\n",
    "            except Exception as e:\n",
    "                print(e)\n",
    "                print(\"获取 access_token 失败，请检查 Key\")\n",
    "        else:\n",
    "            print(\"API_Key 或 Secret_Key 为空，请检查 Key\")\n",
    "\n",
    "    def _call(self, prompt: str, stop: Optional[List[str]] = None,\n",
    "              run_manager: Optional[CallbackManagerForLLMRun] = None,\n",
    "              **kwargs: Any):\n",
    "        # 如果 access_token 为空，初始化 access_token\n",
    "        if self.access_token == None:\n",
    "            self.init_access_token()\n",
    "        # API 调用 url\n",
    "        url = self.url.format(self.access_token)\n",
    "        # 配置 POST 参数\n",
    "        payload = json.dumps({\n",
    "            \"messages\": [\n",
    "                {\n",
    "                    \"role\": \"user\",  # user prompt\n",
    "                    \"content\": \"{}\".format(prompt)  # 输入的 prompt\n",
    "                }\n",
    "            ],\n",
    "            'temperature': self.temperature\n",
    "        })\n",
    "        headers = {\n",
    "            'Content-Type': 'application/json'\n",
    "        }\n",
    "        # 发起请求\n",
    "        response = requests.request(\"POST\", url, headers=headers, data=payload, timeout=self.request_timeout)\n",
    "        if response.status_code == 200:\n",
    "            js = json.loads(response.text)\n",
    "            # print(js)\n",
    "            return js[\"result\"]\n",
    "        else:\n",
    "            return \"请求失败\"\n",
    "\n",
    "    @property\n",
    "    def _llm_type(self) -> str:\n",
    "        return \"Wenxin\""
   ]
  },
  {
   "cell_type": "markdown",
   "metadata": {},
   "source": [
    "- 自定义相关的Zhipu的Embedding类：通过利用Zhipu Embedding进行相关的嵌入操作，从而实现后续将已有知识存入知识库的操作，这里的定义方法跟上述的文心一言大模型相似，所以这里就不再过多的赘述。"
   ]
  },
  {
   "cell_type": "code",
   "execution_count": 4,
   "metadata": {},
   "outputs": [],
   "source": [
    "class ZhipuAIEmbeddings(BaseModel, Embeddings):\n",
    "    \"\"\"`Zhipuai Embeddings` embedding models.\"\"\"\n",
    "\n",
    "    client: Any\n",
    "    \"\"\"`zhipuai.ZhipuAI\"\"\"\n",
    "\n",
    "    @root_validator()\n",
    "    def validate_environment(cls, values: Dict) -> Dict:\n",
    "        \"\"\"\n",
    "        实例化ZhipuAI为values[\"client\"]\n",
    "\n",
    "        Args:\n",
    "\n",
    "            values (Dict): 包含配置信息的字典，必须包含 client 的字段.\n",
    "        Returns:\n",
    "\n",
    "            values (Dict): 包含配置信息的字典。如果环境中有zhipuai库，则将返回实例化的ZhipuAI类；否则将报错 'ModuleNotFoundError: No module named 'zhipuai''.\n",
    "        \"\"\"\n",
    "        from zhipuai import ZhipuAI\n",
    "        values[\"client\"] = ZhipuAI(api_key = '')\n",
    "        return values\n",
    "\n",
    "    def embed_query(self, text: str) -> List[float]:\n",
    "        \"\"\"\n",
    "        生成输入文本的 embedding.\n",
    "\n",
    "        Args:\n",
    "            texts (str): 要生成 embedding 的文本.\n",
    "\n",
    "        Return:\n",
    "            embeddings (List[float]): 输入文本的 embedding，一个浮点数值列表.\n",
    "        \"\"\"\n",
    "        embeddings = self.client.embeddings.create(\n",
    "            model=\"embedding-2\",\n",
    "            input=text\n",
    "        )\n",
    "        return embeddings.data[0].embedding\n",
    "\n",
    "    def embed_documents(self, texts: List[str]) -> List[List[float]]:\n",
    "        \"\"\"\n",
    "        生成输入文本列表的 embedding.\n",
    "        Args:\n",
    "            texts (List[str]): 要生成 embedding 的文本列表.\n",
    "\n",
    "        Returns:\n",
    "            List[List[float]]: 输入列表中每个文档的 embedding 列表。每个 embedding 都表示为一个浮点值列表。\n",
    "        \"\"\"\n",
    "        return [self.embed_query(text) for text in texts]"
   ]
  },
  {
   "cell_type": "markdown",
   "metadata": {},
   "source": [
    "- 加载相关的pdf文档，然后进行相关的文档切分，这里主要是针对我们收集到的pdf文档进行相关的切分操作，从而实现了相关的数据预处理的操作"
   ]
  },
  {
   "cell_type": "code",
   "execution_count": 5,
   "metadata": {},
   "outputs": [],
   "source": [
    "directory = './others/data/'\n",
    "# 加载 PDF\n",
    "loaders_chinese = []\n",
    "for root, dirs, files in os.walk(directory):\n",
    "    for file in files:\n",
    "        file_path = os.path.join(root, file)\n",
    "        loaders_chinese.append(PyMuPDFLoader(file_path))\n",
    "docs = []\n",
    "for loader in loaders_chinese:\n",
    "    docs.extend(loader.load())\n",
    "# 切分文档\n",
    "text_splitter = RecursiveCharacterTextSplitter(chunk_size=500, chunk_overlap=150)\n",
    "split_docs = text_splitter.split_documents(docs)\n",
    "embedding = ZhipuAIEmbeddings()\n"
   ]
  },
  {
   "cell_type": "markdown",
   "metadata": {},
   "source": [
    "- 可持久化的地址"
   ]
  },
  {
   "cell_type": "code",
   "execution_count": 6,
   "metadata": {},
   "outputs": [],
   "source": [
    "persist_directory = './others/vector_db/chroma'"
   ]
  },
  {
   "cell_type": "markdown",
   "metadata": {},
   "source": [
    "- 删除原来的向量数据库"
   ]
  },
  {
   "cell_type": "code",
   "execution_count": 2,
   "metadata": {},
   "outputs": [],
   "source": [
    "!rm -rf './others/vector_db/chroma'"
   ]
  },
  {
   "cell_type": "markdown",
   "metadata": {},
   "source": [
    "- 建立相关的向量数据库：利用Chroma相关的函数和对应的Embedding类进行建立相关的向量数据库"
   ]
  },
  {
   "cell_type": "code",
   "execution_count": 8,
   "metadata": {},
   "outputs": [],
   "source": [
    "vectordb = Chroma.from_documents(\n",
    "    documents=split_docs[:1000],\n",
    "    embedding=embedding,\n",
    "    persist_directory=persist_directory  # 允许我们将persist_directory目录保存到磁盘上\n",
    ")"
   ]
  },
  {
   "cell_type": "markdown",
   "metadata": {},
   "source": [
    "- 统计向量数据库中存储的数量"
   ]
  },
  {
   "cell_type": "code",
   "execution_count": 9,
   "metadata": {},
   "outputs": [
    {
     "name": "stdout",
     "output_type": "stream",
     "text": [
      "向量库中存储的数量：1720\n"
     ]
    }
   ],
   "source": [
    "vectordb.persist()\n",
    "vectordb = Chroma(\n",
    "    persist_directory=persist_directory,\n",
    "    embedding_function=embedding\n",
    ")\n",
    "print(f\"向量库中存储的数量：{vectordb._collection.count()}\")"
   ]
  },
  {
   "cell_type": "markdown",
   "metadata": {},
   "source": [
    "- 建立相关的基于文心一言大模型的LLM，**RAG**技术的核心代码，并且我模型采用了Prompt和记忆操作，并且通过强大的向量数据库的方式进行增强检索。其中prompt操作，是通过反复的迭代和验证得到的。"
   ]
  },
  {
   "cell_type": "code",
   "execution_count": 10,
   "metadata": {},
   "outputs": [
    {
     "name": "stdout",
     "output_type": "stream",
     "text": [
      "input_variables=['context', 'question'] template='\\n你现在是一名由wcq研发的虚拟医生，具备丰富的医学知识和临床经验。你擅长诊断和治疗各种疾病，能为病人提供专业的医疗建议。你有良好的沟通技巧，能与病人和他们的家人建立信任关系。\\n根据以下描述{context}，通过病症诊断或者治疗方案这两个方面\\n来为这个患者解答以下问题。\\n问题：{question}'\n"
     ]
    }
   ],
   "source": [
    "WENXIN_APP_Key = \"\"\n",
    "WENXIN_APP_SECRET = \"\"\n",
    "template = \"\"\"\n",
    "你现在是一名由小吴研发的虚拟医生，具备丰富的医学知识和临床经验。你擅长诊断和治疗各种疾病，能为病人提供专业的医疗建议。你有良好的沟通技巧，能与病人和他们的家人建立信任关系。\n",
    "根据以下描述{context}，通过病症诊断或者治疗方案这两个方面\n",
    "来为这个患者解答以下问题。\n",
    "问题：{question}\"\"\"\n",
    "memory = ConversationBufferMemory(\n",
    "    memory_key=\"chat_history\",  # 与 prompt 的输入变量保持一致。\n",
    "    return_messages=True  # 将以消息列表的形式返回聊天记录，而不是单个字符串\n",
    ")\n",
    "QA_CHAIN_PROMPT = PromptTemplate(input_variables=[\"context\", \"question\"],template=template)\n",
    "print(QA_CHAIN_PROMPT)\n",
    "llm = Wenxin_LLM(api_key=WENXIN_APP_Key, secret_key=WENXIN_APP_SECRET)   \n",
    "llm = RetrievalQA.from_chain_type(\n",
    "            llm,\n",
    "            retriever=vectordb.as_retriever(),\n",
    "            memory=memory,\n",
    "            chain_type_kwargs = {\"prompt\":QA_CHAIN_PROMPT}\n",
    "            )"
   ]
  },
  {
   "cell_type": "markdown",
   "metadata": {},
   "source": [
    "- 定义相关的tools（API和小模型），从而能够构建出相应的Agent，这里主要是构建药物API和OCR识别的tool，以便大模型使用时候调用"
   ]
  },
  {
   "cell_type": "code",
   "execution_count": 12,
   "metadata": {},
   "outputs": [
    {
     "name": "stderr",
     "output_type": "stream",
     "text": [
      "[2024-07-13 10:19:53,620] [ WARNING] function_calling.py:214 - Argument question of type str from function search_medicine could not be not be converted to a JSON schema.\n",
      "[2024-07-13 10:19:53,621] [ WARNING] function_calling.py:214 - Argument medicine of type str from function search_medicine could not be not be converted to a JSON schema.\n",
      "[2024-07-13 10:19:53,622] [ WARNING] function_calling.py:214 - Argument question of type str from function ocr_medicine could not be not be converted to a JSON schema.\n",
      "[2024-07-13 10:19:53,622] [ WARNING] function_calling.py:214 - Argument path of type str from function ocr_medicine could not be not be converted to a JSON schema.\n"
     ]
    },
    {
     "name": "stdout",
     "output_type": "stream",
     "text": [
      "[{'type': 'function', 'function': {'name': 'search_medicine', 'description': '', 'parameters': {'type': 'object', 'properties': {}, 'required': ['question', 'medicine']}}}, {'type': 'function', 'function': {'name': 'ocr_medicine', 'description': '', 'parameters': {'type': 'object', 'properties': {}, 'required': ['question', 'path']}}}]\n"
     ]
    }
   ],
   "source": [
    "Chain = Wenxin_LLM(api_key=WENXIN_APP_Key, secret_key=WENXIN_APP_SECRET)   \n",
    "def search_medicine(question:str, medicine:str) -> str:\n",
    "    prompt_template = \"\"\"以下是药物'{medicine}'的基本信息：\n",
    "    >>> {requests_result} <<<\n",
    "    根据以上基本信息，回答以下这个问题：\n",
    "    >>> {question} <<<\"\"\"\n",
    "    prompt = PromptTemplate(\n",
    "        input_variables=[\"question\", \"medicine\", \"requests_result\"],\n",
    "        template=prompt_template\n",
    "    )\n",
    "    chain = LLMRequestsChain(llm_chain = LLMChain(llm=Chain, prompt=prompt))\n",
    "    inputs = {\n",
    "        \"question\": question,\n",
    "        \"medicine\": medicine,\n",
    "        \"url\": f\"https://apis.tianapi.com/yaopin/index?key=...&word={medicine}\"\n",
    "    }\n",
    "    return chain.invoke(inputs)\n",
    "def ocr_medicine(question:str, path:str)->str:\n",
    "    prompt_template = \"\"\"根据文字'{describtion}',\n",
    "    回答以下这个问题：\n",
    "    >>> {question} <<<\n",
    "    \"\"\"\n",
    "    prompt = PromptTemplate(\n",
    "        input_variables=[\"question\", \"describtion\"],\n",
    "        template=prompt_template\n",
    "    )\n",
    "    chain = LLMChain(llm=Chain, prompt=prompt)\n",
    "    ocr = PaddleOCR(use_angle_cls=True, lang=\"ch\")\n",
    "    img = cv2.imread(path)\n",
    "    describtion = ocr.ocr(img)\n",
    "    result = []\n",
    "    for line in describtion:\n",
    "        line_text = ' '.join([word_info[-1][0] for word_info in line])\n",
    "        result.append(line_text)\n",
    "    inputs = {\n",
    "        \"question\": question,\n",
    "        \"describtion\": result,\n",
    "    }\n",
    "    return chain.invoke(inputs)\n",
    "functions=[convert_to_openai_tool(search_medicine),convert_to_openai_tool(ocr_medicine)]\n",
    "print(functions)"
   ]
  },
  {
   "cell_type": "code",
   "execution_count": 13,
   "metadata": {},
   "outputs": [],
   "source": [
    "Chat = ZhipuAI(api_key='')\n",
    "\n",
    "\n",
    "def get_response(message):\n",
    "    result = Chat.chat.completions.create(model=\"glm-4\",messages=[{\"role\": \"user\",\"content\": message}],\n",
    "                               tools=functions)\n",
    "    if(result.choices[0].message.tool_calls == None):\n",
    "         mmr_docs = vectordb.max_marginal_relevance_search(message,k=3)\n",
    "         input_data = {\n",
    "            'input_documents': mmr_docs,\n",
    "            'question': message,\n",
    "        }\n",
    "         return llm({\"query\": message})['result']\n",
    "    else:\n",
    "        tool_call = result.choices[0].message.tool_calls[0]\n",
    "        args = tool_call.function.arguments\n",
    "        if tool_call.function.name == \"search_medicine\":\n",
    "            function_result = search_medicine(**json.loads(args))\n",
    "            return function_result['output']\n",
    "        if tool_call.function.name == \"ocr_medicine\":\n",
    "            function_result = ocr_medicine(**json.loads(args))\n",
    "            return function_result['text']"
   ]
  },
  {
   "cell_type": "code",
   "execution_count": 14,
   "metadata": {},
   "outputs": [
    {
     "name": "stdout",
     "output_type": "stream",
     "text": [
      "根据您描述的情况，感冒是一种常见的呼吸道疾病，通常表现为咳嗽、流鼻涕、喉咙痛等症状。针对这种情况，可以采取以下建议：\n",
      "\n",
      "首先，要注意休息和保暖。感冒期间应避免劳累，保证充足的休息和睡眠，注意保暖，避免再次受凉。\n",
      "\n",
      "其次，多喝水有助于缓解感冒症状，促进身体代谢和排出毒素。同时，可以使用一些中成药如板蓝根冲剂等进行治疗。\n",
      "\n",
      "再者，如果症状严重或持续时间较长，建议及时就医并遵循医生的建议进行治疗。\n",
      "\n",
      "对于您提到的细辛、延胡索等药物应用，这些药物具有祛风散寒、活血化瘀等作用，可以用于治疗感冒引起的相关症状。但需要注意的是，这些药物的使用应在医生指导下进行，避免自行用药导致不良反应。\n",
      "\n",
      "综上所述，针对感冒问题，建议您首先注意休息和保暖，多喝水，避免劳累。如果症状严重或持续时间较长，应及时就医并遵循医生的建议进行治疗。\n",
      "\n",
      "如需了解更多关于疾病诊断和治疗方法的信息，建议您咨询专业医生或前往医疗机构就诊。\n"
     ]
    }
   ],
   "source": [
    "A = get_response(\"感冒了，该怎么办啊\")\n",
    "print(A)"
   ]
  },
  {
   "cell_type": "code",
   "execution_count": 19,
   "metadata": {},
   "outputs": [
    {
     "data": {
      "image/png": "[encoded data removed]",
      "text/plain": [
       "<Figure size 640x480 with 1 Axes>"
      ]
     },
     "metadata": {},
     "output_type": "display_data"
    },
    {
     "name": "stdout",
     "output_type": "stream",
     "text": [
      "[2024/07/13 10:21:31] ppocr DEBUG: Namespace(help='==SUPPRESS==', use_gpu=False, use_xpu=False, use_npu=False, use_mlu=False, ir_optim=True, use_tensorrt=False, min_subgraph_size=15, precision='fp32', gpu_mem=500, gpu_id=0, image_dir=None, page_num=0, det_algorithm='DB', det_model_dir='C:\\\\Users\\\\LEGION/.paddleocr/whl\\\\det\\\\ch\\\\ch_PP-OCRv4_det_infer', det_limit_side_len=960, det_limit_type='max', det_box_type='quad', det_db_thresh=0.3, det_db_box_thresh=0.6, det_db_unclip_ratio=1.5, max_batch_size=10, use_dilation=False, det_db_score_mode='fast', det_east_score_thresh=0.8, det_east_cover_thresh=0.1, det_east_nms_thresh=0.2, det_sast_score_thresh=0.5, det_sast_nms_thresh=0.2, det_pse_thresh=0, det_pse_box_thresh=0.85, det_pse_min_area=16, det_pse_scale=1, scales=[8, 16, 32], alpha=1.0, beta=1.0, fourier_degree=5, rec_algorithm='SVTR_LCNet', rec_model_dir='C:\\\\Users\\\\LEGION/.paddleocr/whl\\\\rec\\\\ch\\\\ch_PP-OCRv4_rec_infer', rec_image_inverse=True, rec_image_shape='3, 48, 320', rec_batch_num=6, max_text_length=25, rec_char_dict_path='d:\\\\Abaconda\\\\envs\\\\LLM\\\\lib\\\\site-packages\\\\paddleocr\\\\ppocr\\\\utils\\\\ppocr_keys_v1.txt', use_space_char=True, vis_font_path='./doc/fonts/simfang.ttf', drop_score=0.5, e2e_algorithm='PGNet', e2e_model_dir=None, e2e_limit_side_len=768, e2e_limit_type='max', e2e_pgnet_score_thresh=0.5, e2e_char_dict_path='./ppocr/utils/ic15_dict.txt', e2e_pgnet_valid_set='totaltext', e2e_pgnet_mode='fast', use_angle_cls=True, cls_model_dir='C:\\\\Users\\\\LEGION/.paddleocr/whl\\\\cls\\\\ch_ppocr_mobile_v2.0_cls_infer', cls_image_shape='3, 48, 192', label_list=['0', '180'], cls_batch_num=6, cls_thresh=0.9, enable_mkldnn=False, cpu_threads=10, use_pdserving=False, warmup=False, sr_model_dir=None, sr_image_shape='3, 32, 128', sr_batch_num=1, draw_img_save_dir='./inference_results', save_crop_res=False, crop_res_save_dir='./output', use_mp=False, total_process_num=1, process_id=0, benchmark=False, save_log_path='./log_output/', show_log=True, use_onnx=False, return_word_box=False, output='./output', table_max_len=488, table_algorithm='TableAttn', table_model_dir=None, merge_no_span_structure=True, table_char_dict_path=None, layout_model_dir=None, layout_dict_path=None, layout_score_threshold=0.5, layout_nms_threshold=0.5, kie_algorithm='LayoutXLM', ser_model_dir=None, re_model_dir=None, use_visual_backbone=True, ser_dict_path='../train_data/XFUND/class_list_xfun.txt', ocr_order_method=None, mode='structure', image_orientation=False, layout=True, table=True, ocr=True, recovery=False, use_pdf2docx_api=False, invert=False, binarize=False, alphacolor=(255, 255, 255), lang='ch', det=True, rec=True, type='ocr', savefile=False, ocr_version='PP-OCRv4', structure_version='PP-StructureV2')\n",
      "[2024/07/13 10:21:32] ppocr DEBUG: dt_boxes num : 11, elapsed : 0.07059764862060547\n",
      "[2024/07/13 10:21:32] ppocr DEBUG: cls num  : 11, elapsed : 0.026261329650878906\n",
      "[2024/07/13 10:21:32] ppocr DEBUG: rec_res num  : 11, elapsed : 0.24027800559997559\n",
      "阿莫西林胶囊的药品说明书如下：\n",
      "\n",
      "阿莫西林胶囊是一种抗生素药物，主要用于治疗敏感菌引起的各种感染性疾病，如肺炎、扁桃体炎、中耳炎等上呼吸道感染。该药物通常与其他药物一起使用，以增强治疗效果。\n",
      "\n",
      "使用该药物时，需要注意以下几点：\n",
      "\n",
      "1. 按照医生建议和剂量使用该药物。\n",
      "2. 避免与其他药物同时使用，以免产生相互作用。\n",
      "3. 对该药物过敏者禁用。\n",
      "4. 孕妇和哺乳期妇女在使用该药物时需要咨询医生意见。\n",
      "\n",
      "此外，使用该药物时还应注意观察身体状况，如出现不适或过敏反应，应立即停止使用并就医。\n"
     ]
    }
   ],
   "source": [
    "path = './others/Amoxilin.jpg'\n",
    "img = mpimg.imread(path)\n",
    "plt.imshow(img)\n",
    "plt.axis('off')\n",
    "plt.show()\n",
    "A = get_response(f\"这是药盒的文件路径{path}，该药的名称是什么？\")\n",
    "B = get_response(f\"{A},请问它的药品说明书？\")\n",
    "print(B)"
   ]
  },
  {
   "cell_type": "markdown",
   "metadata": {},
   "source": [
    "- 创建Web界面"
   ]
  },
  {
   "cell_type": "code",
   "execution_count": null,
   "metadata": {},
   "outputs": [
    {
     "name": "stdout",
     "output_type": "stream",
     "text": [
      "Running on local URL:  http://127.0.0.1:7860\n",
      "\n",
      "Thanks for being a Gradio user! If you have questions or feedback, please join our Discord server and chat with us: https://discord.gg/feTf9x3ZSB\n",
      "\n",
      "To create a public link, set `share=True` in `launch()`.\n"
     ]
    },
    {
     "data": {
      "text/html": [
       "<div><iframe src=\"http://127.0.0.1:7860/\" width=\"100%\" height=\"500\" allow=\"autoplay; camera; microphone; clipboard-read; clipboard-write;\" frameborder=\"0\" allowfullscreen></iframe></div>"
      ],
      "text/plain": [
       "<IPython.core.display.HTML object>"
      ]
     },
     "metadata": {},
     "output_type": "display_data"
    },
    {
     "data": {
      "text/plain": []
     },
     "execution_count": 20,
     "metadata": {},
     "output_type": "execute_result"
    },
    {
     "name": "stdout",
     "output_type": "stream",
     "text": [
      "[2024/07/13 10:23:33] ppocr DEBUG: Namespace(help='==SUPPRESS==', use_gpu=False, use_xpu=False, use_npu=False, use_mlu=False, ir_optim=True, use_tensorrt=False, min_subgraph_size=15, precision='fp32', gpu_mem=500, gpu_id=0, image_dir=None, page_num=0, det_algorithm='DB', det_model_dir='C:\\\\Users\\\\LEGION/.paddleocr/whl\\\\det\\\\ch\\\\ch_PP-OCRv4_det_infer', det_limit_side_len=960, det_limit_type='max', det_box_type='quad', det_db_thresh=0.3, det_db_box_thresh=0.6, det_db_unclip_ratio=1.5, max_batch_size=10, use_dilation=False, det_db_score_mode='fast', det_east_score_thresh=0.8, det_east_cover_thresh=0.1, det_east_nms_thresh=0.2, det_sast_score_thresh=0.5, det_sast_nms_thresh=0.2, det_pse_thresh=0, det_pse_box_thresh=0.85, det_pse_min_area=16, det_pse_scale=1, scales=[8, 16, 32], alpha=1.0, beta=1.0, fourier_degree=5, rec_algorithm='SVTR_LCNet', rec_model_dir='C:\\\\Users\\\\LEGION/.paddleocr/whl\\\\rec\\\\ch\\\\ch_PP-OCRv4_rec_infer', rec_image_inverse=True, rec_image_shape='3, 48, 320', rec_batch_num=6, max_text_length=25, rec_char_dict_path='d:\\\\Abaconda\\\\envs\\\\LLM\\\\lib\\\\site-packages\\\\paddleocr\\\\ppocr\\\\utils\\\\ppocr_keys_v1.txt', use_space_char=True, vis_font_path='./doc/fonts/simfang.ttf', drop_score=0.5, e2e_algorithm='PGNet', e2e_model_dir=None, e2e_limit_side_len=768, e2e_limit_type='max', e2e_pgnet_score_thresh=0.5, e2e_char_dict_path='./ppocr/utils/ic15_dict.txt', e2e_pgnet_valid_set='totaltext', e2e_pgnet_mode='fast', use_angle_cls=True, cls_model_dir='C:\\\\Users\\\\LEGION/.paddleocr/whl\\\\cls\\\\ch_ppocr_mobile_v2.0_cls_infer', cls_image_shape='3, 48, 192', label_list=['0', '180'], cls_batch_num=6, cls_thresh=0.9, enable_mkldnn=False, cpu_threads=10, use_pdserving=False, warmup=False, sr_model_dir=None, sr_image_shape='3, 32, 128', sr_batch_num=1, draw_img_save_dir='./inference_results', save_crop_res=False, crop_res_save_dir='./output', use_mp=False, total_process_num=1, process_id=0, benchmark=False, save_log_path='./log_output/', show_log=True, use_onnx=False, return_word_box=False, output='./output', table_max_len=488, table_algorithm='TableAttn', table_model_dir=None, merge_no_span_structure=True, table_char_dict_path=None, layout_model_dir=None, layout_dict_path=None, layout_score_threshold=0.5, layout_nms_threshold=0.5, kie_algorithm='LayoutXLM', ser_model_dir=None, re_model_dir=None, use_visual_backbone=True, ser_dict_path='../train_data/XFUND/class_list_xfun.txt', ocr_order_method=None, mode='structure', image_orientation=False, layout=True, table=True, ocr=True, recovery=False, use_pdf2docx_api=False, invert=False, binarize=False, alphacolor=(255, 255, 255), lang='ch', det=True, rec=True, type='ocr', savefile=False, ocr_version='PP-OCRv4', structure_version='PP-StructureV2')\n",
      "[2024/07/13 10:23:34] ppocr DEBUG: dt_boxes num : 11, elapsed : 0.0853571891784668\n",
      "[2024/07/13 10:23:34] ppocr DEBUG: cls num  : 11, elapsed : 0.034826040267944336\n",
      "[2024/07/13 10:23:34] ppocr DEBUG: rec_res num  : 11, elapsed : 0.30972743034362793\n"
     ]
    }
   ],
   "source": [
    "import gradio as gr\n",
    "# 定义一个函数，用于格式化聊天 prompt。\n",
    "def format_chat_prompt(message, chat_history):\n",
    "    prompt = \"\"\n",
    "    for turn in chat_history:\n",
    "        user_message, bot_message = turn\n",
    "        prompt = f\"{prompt}\\nUser: {user_message}\\nAssistant: {bot_message}\"\n",
    "    prompt = f\"{prompt}\\nUser: {message}\\nAssistant:\"\n",
    "    return prompt\n",
    "\n",
    "def respond(file, message, chat_history):\n",
    "    if(file != None):\n",
    "    # formatted_prompt = format_chat_prompt(f\"这是药盒的文件路径{file}，{message}\", chat_history)\n",
    "        medicine = get_response(f\"这是药盒的文件路径{file}，该药的名称是什么？\")\n",
    "        medicine = get_response(f\"{medicine},请给出其中的药品名字\")\n",
    "        bot_message = get_response(f\"{A},{message}？\")\n",
    "    else:\n",
    "         bot_message = get_response(f\"{message}\")\n",
    "    # bot_message = llm.predict(formatted_prompt,\n",
    "    #                             max_new_tokens=1024,\n",
    "    #                             stop_sequences=[\"\\nUser:\", \"\"])\n",
    "    chat_history.append((message, bot_message))\n",
    "    return \"\", chat_history\n",
    "\n",
    "with gr.Blocks(theme=gr.themes.Soft()) as demo:\n",
    "    chatbot = gr.Chatbot(height=240)\n",
    "\n",
    "    with gr.Row():\n",
    "            file = gr.File(label='上传图片',\n",
    "                file_types=['.jpg','.png'])\n",
    "            msg = gr.Textbox(label=\"输入\")\n",
    "    btn = gr.Button(\"提交\")\n",
    "    clear = gr.ClearButton(components=[msg, chatbot], value=\"清空\")\n",
    "\n",
    "    btn.click(respond, inputs=[file, msg, chatbot], outputs=[msg, chatbot])\n",
    "    msg.submit(respond, inputs=[file, msg, chatbot], outputs=[msg, chatbot])\n",
    "\n",
    "# 关闭所有已经存在的 Gradio 实例。\n",
    "gr.close_all()\n",
    "demo.launch()\n"
   ]
  }
 ],
 "metadata": {
  "kernelspec": {
   "display_name": "Python 3",
   "language": "python",
   "name": "python3"
  },
  "language_info": {
   "codemirror_mode": {
    "name": "ipython",
    "version": 3
   },
   "file_extension": ".py",
   "mimetype": "text/x-python",
   "name": "python",
   "nbconvert_exporter": "python",
   "pygments_lexer": "ipython3",
   "version": "3.9.5"
  }
 },
 "nbformat": 4,
 "nbformat_minor": 2
}
